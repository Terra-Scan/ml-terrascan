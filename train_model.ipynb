{
 "cells": [
  {
   "cell_type": "markdown",
   "id": "1acf3d45",
   "metadata": {},
   "source": [
    "### Import Library\n"
   ]
  },
  {
   "cell_type": "code",
   "execution_count": 1,
   "id": "b61871e2",
   "metadata": {},
   "outputs": [],
   "source": [
    "import tensorflow as tf\n",
    "from tensorflow.keras import layers, models\n",
    "from tensorflow.keras.preprocessing import image_dataset_from_directory\n",
    "import matplotlib.pyplot as plt\n",
    "import os"
   ]
  },
  {
   "cell_type": "markdown",
   "id": "02303cbd",
   "metadata": {},
   "source": [
    "### Set Path Dataset\n"
   ]
  },
  {
   "cell_type": "code",
   "execution_count": 2,
   "id": "645aad37",
   "metadata": {},
   "outputs": [],
   "source": [
    "base_dir = \"D:/laskarAI/ml-terrascan/dataset_split\"\n",
    "train_dir = os.path.join(base_dir, \"train\")\n",
    "test_dir = os.path.join(base_dir, \"test\")\n",
    "\n",
    "img_height = 224\n",
    "img_width = 224\n",
    "batch_size = 32"
   ]
  },
  {
   "cell_type": "markdown",
   "id": "02714dde",
   "metadata": {},
   "source": [
    "### Load Dataset\n"
   ]
  },
  {
   "cell_type": "code",
   "execution_count": 3,
   "id": "c9b45f80",
   "metadata": {},
   "outputs": [
    {
     "name": "stdout",
     "output_type": "stream",
     "text": [
      "Found 128 files belonging to 8 classes.\n",
      "Found 32 files belonging to 8 classes.\n"
     ]
    }
   ],
   "source": [
    "train_ds = image_dataset_from_directory(\n",
    "    train_dir,\n",
    "    image_size=(img_height, img_width),\n",
    "    batch_size=batch_size,\n",
    "    shuffle=True\n",
    ")\n",
    "\n",
    "val_ds = image_dataset_from_directory(\n",
    "    test_dir,\n",
    "    image_size=(img_height, img_width),\n",
    "    batch_size=batch_size,\n",
    "    shuffle=True\n",
    ")\n",
    "\n",
    "class_names = train_ds.class_names\n",
    "num_classes = len(class_names)\n",
    "\n",
    "AUTOTUNE = tf.data.AUTOTUNE\n",
    "train_ds = train_ds.prefetch(buffer_size=AUTOTUNE)\n",
    "val_ds = val_ds.prefetch(buffer_size=AUTOTUNE)"
   ]
  },
  {
   "cell_type": "markdown",
   "id": "135d4153",
   "metadata": {},
   "source": [
    "### Augmentasi & Preprocessing\n"
   ]
  },
  {
   "cell_type": "code",
   "execution_count": 4,
   "id": "948d79ad",
   "metadata": {},
   "outputs": [],
   "source": [
    "data_augmentation = tf.keras.Sequential([\n",
    "    layers.RandomFlip(\"horizontal\"),\n",
    "    layers.RandomRotation(0.1),\n",
    "    layers.RandomZoom(0.1),\n",
    "])\n",
    "\n",
    "preprocess_input = tf.keras.applications.efficientnet.preprocess_input"
   ]
  },
  {
   "cell_type": "markdown",
   "id": "80935917",
   "metadata": {},
   "source": [
    "### Bangun Model\n"
   ]
  },
  {
   "cell_type": "code",
   "execution_count": 5,
   "id": "f681413f",
   "metadata": {},
   "outputs": [],
   "source": [
    "# Membuat base model dengan pre-trained weights dari ImageNet\n",
    "base_model = tf.keras.applications.EfficientNetB0(\n",
    "    input_shape=(img_height, img_width, 3),\n",
    "    include_top=False,\n",
    "    weights='imagenet'\n",
    ")\n",
    "\n",
    "# Fine-tuning pada sebagian layer\n",
    "base_model.trainable = True\n",
    "\n",
    "# Membekukan layer-layer yang lebih dalam (misalnya, hanya melatih beberapa layer teratas)\n",
    "for layer in base_model.layers[:-20]:\n",
    "    layer.trainable = False\n",
    "\n",
    "# Membuat arsitektur model dengan layer tambahan\n",
    "inputs = tf.keras.Input(shape=(img_height, img_width, 3))\n",
    "x = data_augmentation(inputs)\n",
    "x = preprocess_input(x)  # Melakukan preprocessing pada input\n",
    "x = base_model(x, training=False)  # Forward pass ke base model\n",
    "x = layers.GlobalAveragePooling2D()(x)  # Global average pooling\n",
    "x = layers.Dense(512, activation='relu', kernel_regularizer=tf.keras.regularizers.l2(0.01))(x)  # L2 Regularization\n",
    "x = layers.Dropout(0.5)(x)  # Dropout untuk regularisasi\n",
    "outputs = layers.Dense(num_classes, activation='softmax')(x)  # Output layer\n",
    "\n",
    "# Model akhir\n",
    "model = models.Model(inputs, outputs)\n"
   ]
  },
  {
   "cell_type": "markdown",
   "id": "5cdc10d1",
   "metadata": {},
   "source": [
    "### Compile and Train\n"
   ]
  },
  {
   "cell_type": "code",
   "execution_count": 6,
   "id": "d3abf011",
   "metadata": {},
   "outputs": [
    {
     "name": "stdout",
     "output_type": "stream",
     "text": [
      "Epoch 1/30\n",
      "\u001b[1m4/4\u001b[0m \u001b[32m━━━━━━━━━━━━━━━━━━━━\u001b[0m\u001b[37m\u001b[0m \u001b[1m18s\u001b[0m 2s/step - accuracy: 0.1583 - loss: 9.3888 - val_accuracy: 0.2812 - val_loss: 9.2689 - learning_rate: 1.0000e-04\n",
      "Epoch 2/30\n",
      "\u001b[1m4/4\u001b[0m \u001b[32m━━━━━━━━━━━━━━━━━━━━\u001b[0m\u001b[37m\u001b[0m \u001b[1m6s\u001b[0m 1s/step - accuracy: 0.2812 - loss: 9.2126 - val_accuracy: 0.3125 - val_loss: 9.1016 - learning_rate: 1.0000e-04\n",
      "Epoch 3/30\n",
      "\u001b[1m4/4\u001b[0m \u001b[32m━━━━━━━━━━━━━━━━━━━━\u001b[0m\u001b[37m\u001b[0m \u001b[1m6s\u001b[0m 1s/step - accuracy: 0.4208 - loss: 8.9014 - val_accuracy: 0.3750 - val_loss: 8.9474 - learning_rate: 1.0000e-04\n",
      "Epoch 4/30\n",
      "\u001b[1m4/4\u001b[0m \u001b[32m━━━━━━━━━━━━━━━━━━━━\u001b[0m\u001b[37m\u001b[0m \u001b[1m5s\u001b[0m 1s/step - accuracy: 0.4812 - loss: 8.7993 - val_accuracy: 0.4688 - val_loss: 8.8052 - learning_rate: 1.0000e-04\n",
      "Epoch 5/30\n",
      "\u001b[1m4/4\u001b[0m \u001b[32m━━━━━━━━━━━━━━━━━━━━\u001b[0m\u001b[37m\u001b[0m \u001b[1m5s\u001b[0m 1s/step - accuracy: 0.6469 - loss: 8.5585 - val_accuracy: 0.5312 - val_loss: 8.6738 - learning_rate: 1.0000e-04\n",
      "Epoch 6/30\n",
      "\u001b[1m4/4\u001b[0m \u001b[32m━━━━━━━━━━━━━━━━━━━━\u001b[0m\u001b[37m\u001b[0m \u001b[1m5s\u001b[0m 1s/step - accuracy: 0.6271 - loss: 8.4615 - val_accuracy: 0.5000 - val_loss: 8.5540 - learning_rate: 1.0000e-04\n",
      "Epoch 7/30\n",
      "\u001b[1m4/4\u001b[0m \u001b[32m━━━━━━━━━━━━━━━━━━━━\u001b[0m\u001b[37m\u001b[0m \u001b[1m5s\u001b[0m 1s/step - accuracy: 0.7344 - loss: 8.3137 - val_accuracy: 0.5312 - val_loss: 8.4440 - learning_rate: 1.0000e-04\n",
      "Epoch 8/30\n",
      "\u001b[1m4/4\u001b[0m \u001b[32m━━━━━━━━━━━━━━━━━━━━\u001b[0m\u001b[37m\u001b[0m \u001b[1m5s\u001b[0m 1s/step - accuracy: 0.7729 - loss: 8.1059 - val_accuracy: 0.5312 - val_loss: 8.3435 - learning_rate: 1.0000e-04\n",
      "Epoch 9/30\n",
      "\u001b[1m4/4\u001b[0m \u001b[32m━━━━━━━━━━━━━━━━━━━━\u001b[0m\u001b[37m\u001b[0m \u001b[1m5s\u001b[0m 1s/step - accuracy: 0.7740 - loss: 8.0337 - val_accuracy: 0.5938 - val_loss: 8.2493 - learning_rate: 1.0000e-04\n",
      "Epoch 10/30\n",
      "\u001b[1m4/4\u001b[0m \u001b[32m━━━━━━━━━━━━━━━━━━━━\u001b[0m\u001b[37m\u001b[0m \u001b[1m5s\u001b[0m 1s/step - accuracy: 0.8188 - loss: 7.8574 - val_accuracy: 0.6250 - val_loss: 8.1571 - learning_rate: 1.0000e-04\n",
      "Epoch 11/30\n",
      "\u001b[1m4/4\u001b[0m \u001b[32m━━━━━━━━━━━━━━━━━━━━\u001b[0m\u001b[37m\u001b[0m \u001b[1m5s\u001b[0m 1s/step - accuracy: 0.8115 - loss: 7.8241 - val_accuracy: 0.6250 - val_loss: 8.0704 - learning_rate: 1.0000e-04\n",
      "Epoch 12/30\n",
      "\u001b[1m4/4\u001b[0m \u001b[32m━━━━━━━━━━━━━━━━━━━━\u001b[0m\u001b[37m\u001b[0m \u001b[1m5s\u001b[0m 1s/step - accuracy: 0.8469 - loss: 7.6757 - val_accuracy: 0.6250 - val_loss: 7.9842 - learning_rate: 1.0000e-04\n",
      "Epoch 13/30\n",
      "\u001b[1m4/4\u001b[0m \u001b[32m━━━━━━━━━━━━━━━━━━━━\u001b[0m\u001b[37m\u001b[0m \u001b[1m5s\u001b[0m 1s/step - accuracy: 0.8667 - loss: 7.5548 - val_accuracy: 0.6250 - val_loss: 7.8995 - learning_rate: 1.0000e-04\n",
      "Epoch 14/30\n",
      "\u001b[1m4/4\u001b[0m \u001b[32m━━━━━━━━━━━━━━━━━━━━\u001b[0m\u001b[37m\u001b[0m \u001b[1m5s\u001b[0m 1s/step - accuracy: 0.8708 - loss: 7.4960 - val_accuracy: 0.6250 - val_loss: 7.8130 - learning_rate: 1.0000e-04\n",
      "Epoch 15/30\n",
      "\u001b[1m4/4\u001b[0m \u001b[32m━━━━━━━━━━━━━━━━━━━━\u001b[0m\u001b[37m\u001b[0m \u001b[1m5s\u001b[0m 1s/step - accuracy: 0.9260 - loss: 7.3449 - val_accuracy: 0.7188 - val_loss: 7.7254 - learning_rate: 1.0000e-04\n",
      "Epoch 16/30\n",
      "\u001b[1m4/4\u001b[0m \u001b[32m━━━━━━━━━━━━━━━━━━━━\u001b[0m\u001b[37m\u001b[0m \u001b[1m5s\u001b[0m 1s/step - accuracy: 0.8938 - loss: 7.2636 - val_accuracy: 0.7188 - val_loss: 7.6371 - learning_rate: 1.0000e-04\n",
      "Epoch 17/30\n",
      "\u001b[1m4/4\u001b[0m \u001b[32m━━━━━━━━━━━━━━━━━━━━\u001b[0m\u001b[37m\u001b[0m \u001b[1m5s\u001b[0m 1s/step - accuracy: 0.9552 - loss: 7.1910 - val_accuracy: 0.7188 - val_loss: 7.5460 - learning_rate: 1.0000e-04\n",
      "Epoch 18/30\n",
      "\u001b[1m4/4\u001b[0m \u001b[32m━━━━━━━━━━━━━━━━━━━━\u001b[0m\u001b[37m\u001b[0m \u001b[1m5s\u001b[0m 1s/step - accuracy: 0.9531 - loss: 7.1039 - val_accuracy: 0.7188 - val_loss: 7.4567 - learning_rate: 1.0000e-04\n",
      "Epoch 19/30\n",
      "\u001b[1m4/4\u001b[0m \u001b[32m━━━━━━━━━━━━━━━━━━━━\u001b[0m\u001b[37m\u001b[0m \u001b[1m6s\u001b[0m 1s/step - accuracy: 0.9396 - loss: 6.9704 - val_accuracy: 0.7188 - val_loss: 7.3691 - learning_rate: 1.0000e-04\n",
      "Epoch 20/30\n",
      "\u001b[1m4/4\u001b[0m \u001b[32m━━━━━━━━━━━━━━━━━━━━\u001b[0m\u001b[37m\u001b[0m \u001b[1m6s\u001b[0m 1s/step - accuracy: 0.9708 - loss: 6.8702 - val_accuracy: 0.7188 - val_loss: 7.2854 - learning_rate: 1.0000e-04\n",
      "Epoch 21/30\n",
      "\u001b[1m4/4\u001b[0m \u001b[32m━━━━━━━━━━━━━━━━━━━━\u001b[0m\u001b[37m\u001b[0m \u001b[1m5s\u001b[0m 1s/step - accuracy: 0.9583 - loss: 6.8179 - val_accuracy: 0.7500 - val_loss: 7.2059 - learning_rate: 1.0000e-04\n",
      "Epoch 22/30\n",
      "\u001b[1m4/4\u001b[0m \u001b[32m━━━━━━━━━━━━━━━━━━━━\u001b[0m\u001b[37m\u001b[0m \u001b[1m5s\u001b[0m 1s/step - accuracy: 0.9708 - loss: 6.7331 - val_accuracy: 0.7500 - val_loss: 7.1284 - learning_rate: 1.0000e-04\n",
      "Epoch 23/30\n",
      "\u001b[1m4/4\u001b[0m \u001b[32m━━━━━━━━━━━━━━━━━━━━\u001b[0m\u001b[37m\u001b[0m \u001b[1m5s\u001b[0m 1s/step - accuracy: 0.9771 - loss: 6.6401 - val_accuracy: 0.7812 - val_loss: 7.0559 - learning_rate: 1.0000e-04\n",
      "Epoch 24/30\n",
      "\u001b[1m4/4\u001b[0m \u001b[32m━━━━━━━━━━━━━━━━━━━━\u001b[0m\u001b[37m\u001b[0m \u001b[1m5s\u001b[0m 1s/step - accuracy: 0.9719 - loss: 6.6082 - val_accuracy: 0.7812 - val_loss: 6.9876 - learning_rate: 1.0000e-04\n",
      "Epoch 25/30\n",
      "\u001b[1m4/4\u001b[0m \u001b[32m━━━━━━━━━━━━━━━━━━━━\u001b[0m\u001b[37m\u001b[0m \u001b[1m5s\u001b[0m 1s/step - accuracy: 0.9656 - loss: 6.5169 - val_accuracy: 0.7812 - val_loss: 6.9214 - learning_rate: 1.0000e-04\n",
      "Epoch 26/30\n",
      "\u001b[1m4/4\u001b[0m \u001b[32m━━━━━━━━━━━━━━━━━━━━\u001b[0m\u001b[37m\u001b[0m \u001b[1m5s\u001b[0m 1s/step - accuracy: 0.9896 - loss: 6.4223 - val_accuracy: 0.7812 - val_loss: 6.8552 - learning_rate: 1.0000e-04\n",
      "Epoch 27/30\n",
      "\u001b[1m4/4\u001b[0m \u001b[32m━━━━━━━━━━━━━━━━━━━━\u001b[0m\u001b[37m\u001b[0m \u001b[1m5s\u001b[0m 1s/step - accuracy: 0.9729 - loss: 6.3916 - val_accuracy: 0.7812 - val_loss: 6.7897 - learning_rate: 1.0000e-04\n",
      "Epoch 28/30\n",
      "\u001b[1m4/4\u001b[0m \u001b[32m━━━━━━━━━━━━━━━━━━━━\u001b[0m\u001b[37m\u001b[0m \u001b[1m5s\u001b[0m 1s/step - accuracy: 0.9604 - loss: 6.3320 - val_accuracy: 0.7812 - val_loss: 6.7249 - learning_rate: 1.0000e-04\n",
      "Epoch 29/30\n",
      "\u001b[1m4/4\u001b[0m \u001b[32m━━━━━━━━━━━━━━━━━━━━\u001b[0m\u001b[37m\u001b[0m \u001b[1m5s\u001b[0m 1s/step - accuracy: 0.9854 - loss: 6.2388 - val_accuracy: 0.7812 - val_loss: 6.6598 - learning_rate: 1.0000e-04\n",
      "Epoch 30/30\n",
      "\u001b[1m4/4\u001b[0m \u001b[32m━━━━━━━━━━━━━━━━━━━━\u001b[0m\u001b[37m\u001b[0m \u001b[1m5s\u001b[0m 1s/step - accuracy: 0.9948 - loss: 6.1542 - val_accuracy: 0.7812 - val_loss: 6.5959 - learning_rate: 1.0000e-04\n"
     ]
    }
   ],
   "source": [
    "# Compile model dengan optimizers dan loss function yang sesuai\n",
    "model.compile(\n",
    "    optimizer=tf.keras.optimizers.Adam(learning_rate=1e-4),  # Gunakan learning rate rendah untuk fine-tuning\n",
    "    loss='sparse_categorical_crossentropy',  # Atau bisa 'categorical_crossentropy'\n",
    "    metrics=['accuracy']\n",
    ")\n",
    "\n",
    "early_stopping = tf.keras.callbacks.EarlyStopping(monitor='val_loss', patience=5, restore_best_weights=True)\n",
    "reduce_lr = tf.keras.callbacks.ReduceLROnPlateau(monitor='val_loss', factor=0.2, patience=3, min_lr=1e-5)\n",
    "\n",
    "history = model.fit(\n",
    "    train_ds,\n",
    "    validation_data=val_ds,\n",
    "    epochs=30,\n",
    "    callbacks=[early_stopping, reduce_lr]\n",
    ")"
   ]
  },
  {
   "cell_type": "markdown",
   "id": "f0ace502",
   "metadata": {},
   "source": [
    "### Visualisasi Akurasi\n"
   ]
  },
  {
   "cell_type": "code",
   "execution_count": 7,
   "id": "867d9201",
   "metadata": {},
   "outputs": [
    {
     "data": {
      "image/png": "[encoded data removed]",
      "text/plain": [
       "<Figure size 800x600 with 1 Axes>"
      ]
     },
     "metadata": {},
     "output_type": "display_data"
    }
   ],
   "source": [
    "acc = history.history['accuracy']\n",
    "val_acc = history.history['val_accuracy']\n",
    "epochs_range = range(len(acc))\n",
    "\n",
    "plt.figure(figsize=(8, 6))\n",
    "plt.plot(epochs_range, acc, label='Training Accuracy')\n",
    "plt.plot(epochs_range, val_acc, label='Validation Accuracy')\n",
    "plt.legend(loc='lower right')\n",
    "plt.title('Training and Validation Accuracy')\n",
    "plt.show()"
   ]
  },
  {
   "cell_type": "markdown",
   "id": "4ec49a31",
   "metadata": {},
   "source": [
    "### Save Model\n"
   ]
  },
  {
   "cell_type": "code",
   "execution_count": 8,
   "id": "f5cea4fb",
   "metadata": {},
   "outputs": [
    {
     "name": "stdout",
     "output_type": "stream",
     "text": [
      "✅ Model saved as model_terrascan.keras\n"
     ]
    }
   ],
   "source": [
    "model.save(\"D:/laskarAI/ml-terrascan/model_terrascan.keras\")\n",
    "print(\"✅ Model saved as model_terrascan.keras\")"
   ]
  }
 ],
 "metadata": {
  "kernelspec": {
   "display_name": "ml-terrascan-G5CCSzA-",
   "language": "python",
   "name": "python3"
  },
  "language_info": {
   "codemirror_mode": {
    "name": "ipython",
    "version": 3
   },
   "file_extension": ".py",
   "mimetype": "text/x-python",
   "name": "python",
   "nbconvert_exporter": "python",
   "pygments_lexer": "ipython3",
   "version": "3.12.10"
  }
 },
 "nbformat": 4,
 "nbformat_minor": 5
}
