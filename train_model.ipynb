{
 "cells": [
  {
   "cell_type": "markdown",
   "id": "1acf3d45",
   "metadata": {},
   "source": [
    "### Import Library\n"
   ]
  },
  {
   "cell_type": "code",
   "execution_count": 78,
   "id": "b61871e2",
   "metadata": {},
   "outputs": [],
   "source": [
    "import tensorflow as tf\n",
    "from tensorflow.keras import layers, models\n",
    "from tensorflow.keras.preprocessing import image_dataset_from_directory\n",
    "import matplotlib.pyplot as plt\n",
    "import os"
   ]
  },
  {
   "cell_type": "markdown",
   "id": "02303cbd",
   "metadata": {},
   "source": [
    "### Set Path Dataset\n"
   ]
  },
  {
   "cell_type": "code",
   "execution_count": 79,
   "id": "645aad37",
   "metadata": {},
   "outputs": [],
   "source": [
    "base_dir = \"D:/laskarAI/ml-terrascan/dataset_split\"\n",
    "train_dir = os.path.join(base_dir, \"train\")\n",
    "test_dir = os.path.join(base_dir, \"test\")\n",
    "\n",
    "img_height = 224\n",
    "img_width = 224\n",
    "batch_size = 32"
   ]
  },
  {
   "cell_type": "markdown",
   "id": "02714dde",
   "metadata": {},
   "source": [
    "### Load Dataset\n"
   ]
  },
  {
   "cell_type": "code",
   "execution_count": 80,
   "id": "c9b45f80",
   "metadata": {},
   "outputs": [
    {
     "name": "stdout",
     "output_type": "stream",
     "text": [
      "Found 128 files belonging to 8 classes.\n"
     ]
    },
    {
     "name": "stdout",
     "output_type": "stream",
     "text": [
      "Found 32 files belonging to 8 classes.\n"
     ]
    }
   ],
   "source": [
    "train_ds = image_dataset_from_directory(\n",
    "    train_dir,\n",
    "    image_size=(img_height, img_width),\n",
    "    batch_size=batch_size,\n",
    "    shuffle=True\n",
    ")\n",
    "\n",
    "val_ds = image_dataset_from_directory(\n",
    "    test_dir,\n",
    "    image_size=(img_height, img_width),\n",
    "    batch_size=batch_size,\n",
    "    shuffle=True\n",
    ")\n",
    "\n",
    "class_names = train_ds.class_names\n",
    "num_classes = len(class_names)\n",
    "\n",
    "AUTOTUNE = tf.data.AUTOTUNE\n",
    "train_ds = train_ds.prefetch(buffer_size=AUTOTUNE)\n",
    "val_ds = val_ds.prefetch(buffer_size=AUTOTUNE)"
   ]
  },
  {
   "cell_type": "markdown",
   "id": "135d4153",
   "metadata": {},
   "source": [
    "### Augmentasi & Preprocessing\n"
   ]
  },
  {
   "cell_type": "code",
   "execution_count": 81,
   "id": "948d79ad",
   "metadata": {},
   "outputs": [],
   "source": [
    "data_augmentation = tf.keras.Sequential([\n",
    "    layers.RandomFlip(\"horizontal\"),\n",
    "    layers.RandomRotation(0.1),\n",
    "    layers.RandomZoom(0.1),\n",
    "])\n",
    "\n",
    "preprocess_input = tf.keras.applications.efficientnet.preprocess_input"
   ]
  },
  {
   "cell_type": "markdown",
   "id": "80935917",
   "metadata": {},
   "source": [
    "### Bangun Model\n"
   ]
  },
  {
   "cell_type": "code",
   "execution_count": 82,
   "id": "f681413f",
   "metadata": {},
   "outputs": [],
   "source": [
    "# Membuat base model dengan pre-trained weights dari ImageNet\n",
    "base_model = tf.keras.applications.EfficientNetB0(\n",
    "    input_shape=(img_height, img_width, 3),\n",
    "    include_top=False,\n",
    "    weights='imagenet'\n",
    ")\n",
    "\n",
    "# Fine-tuning pada sebagian layer\n",
    "base_model.trainable = True\n",
    "\n",
    "# Membekukan layer-layer yang lebih dalam (misalnya, hanya melatih beberapa layer teratas)\n",
    "for layer in base_model.layers[:-20]:\n",
    "    layer.trainable = False\n",
    "\n",
    "# Membuat arsitektur model dengan layer tambahan\n",
    "inputs = tf.keras.Input(shape=(img_height, img_width, 3))\n",
    "x = data_augmentation(inputs)\n",
    "x = preprocess_input(x)  # Melakukan preprocessing pada input\n",
    "x = base_model(x, training=False)  # Forward pass ke base model\n",
    "x = layers.GlobalAveragePooling2D()(x)  # Global average pooling\n",
    "x = layers.Dense(512, activation='relu', kernel_regularizer=tf.keras.regularizers.l2(0.01))(x)  # L2 Regularization\n",
    "x = layers.Dropout(0.5)(x)  # Dropout untuk regularisasi\n",
    "outputs = layers.Dense(num_classes, activation='softmax')(x)  # Output layer\n",
    "\n",
    "# Model akhir\n",
    "model = models.Model(inputs, outputs)\n"
   ]
  },
  {
   "cell_type": "markdown",
   "id": "5cdc10d1",
   "metadata": {},
   "source": [
    "### Compile and Train\n"
   ]
  },
  {
   "cell_type": "code",
   "execution_count": 83,
   "id": "d3abf011",
   "metadata": {},
   "outputs": [
    {
     "name": "stdout",
     "output_type": "stream",
     "text": [
      "Epoch 1/30\n",
      "\u001b[1m4/4\u001b[0m \u001b[32m━━━━━━━━━━━━━━━━━━━━\u001b[0m\u001b[37m\u001b[0m \u001b[1m17s\u001b[0m 2s/step - accuracy: 0.1156 - loss: 9.5682 - val_accuracy: 0.1250 - val_loss: 9.3544 - learning_rate: 1.0000e-04\n",
      "Epoch 2/30\n",
      "\u001b[1m4/4\u001b[0m \u001b[32m━━━━━━━━━━━━━━━━━━━━\u001b[0m\u001b[37m\u001b[0m \u001b[1m6s\u001b[0m 1s/step - accuracy: 0.2021 - loss: 9.2639 - val_accuracy: 0.1562 - val_loss: 9.1837 - learning_rate: 1.0000e-04\n",
      "Epoch 3/30\n",
      "\u001b[1m4/4\u001b[0m \u001b[32m━━━━━━━━━━━━━━━━━━━━\u001b[0m\u001b[37m\u001b[0m \u001b[1m5s\u001b[0m 1s/step - accuracy: 0.3385 - loss: 9.0035 - val_accuracy: 0.2500 - val_loss: 9.0269 - learning_rate: 1.0000e-04\n",
      "Epoch 4/30\n",
      "\u001b[1m4/4\u001b[0m \u001b[32m━━━━━━━━━━━━━━━━━━━━\u001b[0m\u001b[37m\u001b[0m \u001b[1m4s\u001b[0m 1s/step - accuracy: 0.4750 - loss: 8.8513 - val_accuracy: 0.3125 - val_loss: 8.8828 - learning_rate: 1.0000e-04\n",
      "Epoch 5/30\n",
      "\u001b[1m4/4\u001b[0m \u001b[32m━━━━━━━━━━━━━━━━━━━━\u001b[0m\u001b[37m\u001b[0m \u001b[1m4s\u001b[0m 1s/step - accuracy: 0.5531 - loss: 8.7332 - val_accuracy: 0.3125 - val_loss: 8.7487 - learning_rate: 1.0000e-04\n",
      "Epoch 6/30\n",
      "\u001b[1m4/4\u001b[0m \u001b[32m━━━━━━━━━━━━━━━━━━━━\u001b[0m\u001b[37m\u001b[0m \u001b[1m4s\u001b[0m 1s/step - accuracy: 0.6698 - loss: 8.4665 - val_accuracy: 0.3750 - val_loss: 8.6293 - learning_rate: 1.0000e-04\n",
      "Epoch 7/30\n",
      "\u001b[1m4/4\u001b[0m \u001b[32m━━━━━━━━━━━━━━━━━━━━\u001b[0m\u001b[37m\u001b[0m \u001b[1m4s\u001b[0m 1s/step - accuracy: 0.6219 - loss: 8.3829 - val_accuracy: 0.4375 - val_loss: 8.5191 - learning_rate: 1.0000e-04\n",
      "Epoch 8/30\n",
      "\u001b[1m4/4\u001b[0m \u001b[32m━━━━━━━━━━━━━━━━━━━━\u001b[0m\u001b[37m\u001b[0m \u001b[1m4s\u001b[0m 1s/step - accuracy: 0.6865 - loss: 8.2725 - val_accuracy: 0.5000 - val_loss: 8.4173 - learning_rate: 1.0000e-04\n",
      "Epoch 9/30\n",
      "\u001b[1m4/4\u001b[0m \u001b[32m━━━━━━━━━━━━━━━━━━━━\u001b[0m\u001b[37m\u001b[0m \u001b[1m4s\u001b[0m 1s/step - accuracy: 0.7521 - loss: 8.0646 - val_accuracy: 0.5000 - val_loss: 8.3252 - learning_rate: 1.0000e-04\n",
      "Epoch 10/30\n",
      "\u001b[1m4/4\u001b[0m \u001b[32m━━━━━━━━━━━━━━━━━━━━\u001b[0m\u001b[37m\u001b[0m \u001b[1m4s\u001b[0m 1s/step - accuracy: 0.7729 - loss: 7.9715 - val_accuracy: 0.5625 - val_loss: 8.2373 - learning_rate: 1.0000e-04\n",
      "Epoch 11/30\n",
      "\u001b[1m4/4\u001b[0m \u001b[32m━━━━━━━━━━━━━━━━━━━━\u001b[0m\u001b[37m\u001b[0m \u001b[1m4s\u001b[0m 1s/step - accuracy: 0.8219 - loss: 7.8319 - val_accuracy: 0.5625 - val_loss: 8.1527 - learning_rate: 1.0000e-04\n",
      "Epoch 12/30\n",
      "\u001b[1m4/4\u001b[0m \u001b[32m━━━━━━━━━━━━━━━━━━━━\u001b[0m\u001b[37m\u001b[0m \u001b[1m4s\u001b[0m 1s/step - accuracy: 0.8062 - loss: 7.7446 - val_accuracy: 0.6250 - val_loss: 8.0711 - learning_rate: 1.0000e-04\n",
      "Epoch 13/30\n",
      "\u001b[1m4/4\u001b[0m \u001b[32m━━━━━━━━━━━━━━━━━━━━\u001b[0m\u001b[37m\u001b[0m \u001b[1m4s\u001b[0m 1s/step - accuracy: 0.8396 - loss: 7.6711 - val_accuracy: 0.6250 - val_loss: 7.9864 - learning_rate: 1.0000e-04\n",
      "Epoch 14/30\n",
      "\u001b[1m4/4\u001b[0m \u001b[32m━━━━━━━━━━━━━━━━━━━━\u001b[0m\u001b[37m\u001b[0m \u001b[1m4s\u001b[0m 1s/step - accuracy: 0.8667 - loss: 7.5498 - val_accuracy: 0.6250 - val_loss: 7.9014 - learning_rate: 1.0000e-04\n",
      "Epoch 15/30\n",
      "\u001b[1m4/4\u001b[0m \u001b[32m━━━━━━━━━━━━━━━━━━━━\u001b[0m\u001b[37m\u001b[0m \u001b[1m4s\u001b[0m 1s/step - accuracy: 0.8615 - loss: 7.4292 - val_accuracy: 0.6562 - val_loss: 7.8195 - learning_rate: 1.0000e-04\n",
      "Epoch 16/30\n",
      "\u001b[1m4/4\u001b[0m \u001b[32m━━━━━━━━━━━━━━━━━━━━\u001b[0m\u001b[37m\u001b[0m \u001b[1m4s\u001b[0m 1s/step - accuracy: 0.8844 - loss: 7.3272 - val_accuracy: 0.6562 - val_loss: 7.7370 - learning_rate: 1.0000e-04\n",
      "Epoch 17/30\n",
      "\u001b[1m4/4\u001b[0m \u001b[32m━━━━━━━━━━━━━━━━━━━━\u001b[0m\u001b[37m\u001b[0m \u001b[1m4s\u001b[0m 1s/step - accuracy: 0.8521 - loss: 7.2948 - val_accuracy: 0.6562 - val_loss: 7.6534 - learning_rate: 1.0000e-04\n",
      "Epoch 18/30\n",
      "\u001b[1m4/4\u001b[0m \u001b[32m━━━━━━━━━━━━━━━━━━━━\u001b[0m\u001b[37m\u001b[0m \u001b[1m4s\u001b[0m 1s/step - accuracy: 0.8646 - loss: 7.1807 - val_accuracy: 0.6562 - val_loss: 7.5694 - learning_rate: 1.0000e-04\n",
      "Epoch 19/30\n",
      "\u001b[1m4/4\u001b[0m \u001b[32m━━━━━━━━━━━━━━━━━━━━\u001b[0m\u001b[37m\u001b[0m \u001b[1m4s\u001b[0m 1s/step - accuracy: 0.9396 - loss: 7.0176 - val_accuracy: 0.6562 - val_loss: 7.4902 - learning_rate: 1.0000e-04\n",
      "Epoch 20/30\n",
      "\u001b[1m4/4\u001b[0m \u001b[32m━━━━━━━━━━━━━━━━━━━━\u001b[0m\u001b[37m\u001b[0m \u001b[1m4s\u001b[0m 1s/step - accuracy: 0.9365 - loss: 7.0137 - val_accuracy: 0.6562 - val_loss: 7.4118 - learning_rate: 1.0000e-04\n",
      "Epoch 21/30\n",
      "\u001b[1m4/4\u001b[0m \u001b[32m━━━━━━━━━━━━━━━━━━━━\u001b[0m\u001b[37m\u001b[0m \u001b[1m4s\u001b[0m 1s/step - accuracy: 0.8885 - loss: 6.9103 - val_accuracy: 0.6875 - val_loss: 7.3345 - learning_rate: 1.0000e-04\n",
      "Epoch 22/30\n",
      "\u001b[1m4/4\u001b[0m \u001b[32m━━━━━━━━━━━━━━━━━━━━\u001b[0m\u001b[37m\u001b[0m \u001b[1m4s\u001b[0m 1s/step - accuracy: 0.9146 - loss: 6.8783 - val_accuracy: 0.6875 - val_loss: 7.2587 - learning_rate: 1.0000e-04\n",
      "Epoch 23/30\n",
      "\u001b[1m4/4\u001b[0m \u001b[32m━━━━━━━━━━━━━━━━━━━━\u001b[0m\u001b[37m\u001b[0m \u001b[1m4s\u001b[0m 1s/step - accuracy: 0.9594 - loss: 6.7375 - val_accuracy: 0.7188 - val_loss: 7.1867 - learning_rate: 1.0000e-04\n",
      "Epoch 24/30\n",
      "\u001b[1m4/4\u001b[0m \u001b[32m━━━━━━━━━━━━━━━━━━━━\u001b[0m\u001b[37m\u001b[0m \u001b[1m4s\u001b[0m 1s/step - accuracy: 0.9115 - loss: 6.7190 - val_accuracy: 0.7188 - val_loss: 7.1145 - learning_rate: 1.0000e-04\n",
      "Epoch 25/30\n",
      "\u001b[1m4/4\u001b[0m \u001b[32m━━━━━━━━━━━━━━━━━━━━\u001b[0m\u001b[37m\u001b[0m \u001b[1m4s\u001b[0m 1s/step - accuracy: 0.9594 - loss: 6.6298 - val_accuracy: 0.7500 - val_loss: 7.0435 - learning_rate: 1.0000e-04\n",
      "Epoch 26/30\n",
      "\u001b[1m4/4\u001b[0m \u001b[32m━━━━━━━━━━━━━━━━━━━━\u001b[0m\u001b[37m\u001b[0m \u001b[1m4s\u001b[0m 1s/step - accuracy: 0.9521 - loss: 6.4982 - val_accuracy: 0.7812 - val_loss: 6.9750 - learning_rate: 1.0000e-04\n",
      "Epoch 27/30\n",
      "\u001b[1m4/4\u001b[0m \u001b[32m━━━━━━━━━━━━━━━━━━━━\u001b[0m\u001b[37m\u001b[0m \u001b[1m4s\u001b[0m 1s/step - accuracy: 0.9688 - loss: 6.4618 - val_accuracy: 0.7812 - val_loss: 6.9051 - learning_rate: 1.0000e-04\n",
      "Epoch 28/30\n",
      "\u001b[1m4/4\u001b[0m \u001b[32m━━━━━━━━━━━━━━━━━━━━\u001b[0m\u001b[37m\u001b[0m \u001b[1m4s\u001b[0m 1s/step - accuracy: 0.9885 - loss: 6.3768 - val_accuracy: 0.7812 - val_loss: 6.8372 - learning_rate: 1.0000e-04\n",
      "Epoch 29/30\n",
      "\u001b[1m4/4\u001b[0m \u001b[32m━━━━━━━━━━━━━━━━━━━━\u001b[0m\u001b[37m\u001b[0m \u001b[1m4s\u001b[0m 1s/step - accuracy: 0.9865 - loss: 6.3501 - val_accuracy: 0.7812 - val_loss: 6.7737 - learning_rate: 1.0000e-04\n",
      "Epoch 30/30\n",
      "\u001b[1m4/4\u001b[0m \u001b[32m━━━━━━━━━━━━━━━━━━━━\u001b[0m\u001b[37m\u001b[0m \u001b[1m4s\u001b[0m 1s/step - accuracy: 0.9865 - loss: 6.2529 - val_accuracy: 0.7812 - val_loss: 6.7103 - learning_rate: 1.0000e-04\n"
     ]
    }
   ],
   "source": [
    "# Compile model dengan optimizers dan loss function yang sesuai\n",
    "model.compile(\n",
    "    optimizer=tf.keras.optimizers.Adam(learning_rate=1e-4),  # Gunakan learning rate rendah untuk fine-tuning\n",
    "    loss='sparse_categorical_crossentropy',  # Atau bisa 'categorical_crossentropy'\n",
    "    metrics=['accuracy']\n",
    ")\n",
    "\n",
    "early_stopping = tf.keras.callbacks.EarlyStopping(monitor='val_loss', patience=5, restore_best_weights=True)\n",
    "reduce_lr = tf.keras.callbacks.ReduceLROnPlateau(monitor='val_loss', factor=0.2, patience=3, min_lr=1e-5)\n",
    "\n",
    "history = model.fit(\n",
    "    train_ds,\n",
    "    validation_data=val_ds,\n",
    "    epochs=30,\n",
    "    callbacks=[early_stopping, reduce_lr]\n",
    ")"
   ]
  },
  {
   "cell_type": "markdown",
   "id": "f0ace502",
   "metadata": {},
   "source": [
    "### Visualisasi Akurasi\n"
   ]
  },
  {
   "cell_type": "code",
   "execution_count": 84,
   "id": "867d9201",
   "metadata": {},
   "outputs": [
    {
     "data": {
      "image/png": "[encoded data removed]",
      "text/plain": [
       "<Figure size 800x600 with 1 Axes>"
      ]
     },
     "metadata": {},
     "output_type": "display_data"
    }
   ],
   "source": [
    "acc = history.history['accuracy']\n",
    "val_acc = history.history['val_accuracy']\n",
    "epochs_range = range(len(acc))\n",
    "\n",
    "plt.figure(figsize=(8, 6))\n",
    "plt.plot(epochs_range, acc, label='Training Accuracy')\n",
    "plt.plot(epochs_range, val_acc, label='Validation Accuracy')\n",
    "plt.legend(loc='lower right')\n",
    "plt.title('Training and Validation Accuracy')\n",
    "plt.show()"
   ]
  },
  {
   "cell_type": "markdown",
   "id": "4ec49a31",
   "metadata": {},
   "source": [
    "### Save Model\n"
   ]
  },
  {
   "cell_type": "code",
   "execution_count": 85,
   "id": "f5cea4fb",
   "metadata": {},
   "outputs": [
    {
     "name": "stdout",
     "output_type": "stream",
     "text": [
      "✅ Model saved as model_terrascan.keras\n"
     ]
    }
   ],
   "source": [
    "model.save(\"D:/laskarAI/ml-terrascan/model_terrascan.keras\")\n",
    "print(\"✅ Model saved as model_terrascan.keras\")"
   ]
  }
 ],
 "metadata": {
  "kernelspec": {
   "display_name": "ml-terrascan-G5CCSzA-",
   "language": "python",
   "name": "python3"
  },
  "language_info": {
   "codemirror_mode": {
    "name": "ipython",
    "version": 3
   },
   "file_extension": ".py",
   "mimetype": "text/x-python",
   "name": "python",
   "nbconvert_exporter": "python",
   "pygments_lexer": "ipython3",
   "version": "3.12.10"
  }
 },
 "nbformat": 4,
 "nbformat_minor": 5
}
